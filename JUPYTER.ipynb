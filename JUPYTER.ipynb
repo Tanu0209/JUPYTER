{
    "cells": [
        {
            "metadata": {},
            "cell_type": "markdown",
            "source": "**THIS NOTEBOOK IS MAINLY BASED ON CAPSTONE PROJECT PROVIDED BY COURSERA**"
        },
        {
            "metadata": {},
            "cell_type": "code",
            "source": "import pandas as pd",
            "execution_count": 1,
            "outputs": []
        },
        {
            "metadata": {},
            "cell_type": "code",
            "source": "import numpy as ny",
            "execution_count": 2,
            "outputs": []
        },
        {
            "metadata": {},
            "cell_type": "code",
            "source": "print('HELLO THIS IS MY CAPSTONE PROJECT')",
            "execution_count": 3,
            "outputs": [
                {
                    "output_type": "stream",
                    "text": "HELLO THIS IS MY CAPSTONE PROJECT\n",
                    "name": "stdout"
                }
            ]
        },
        {
            "metadata": {},
            "cell_type": "markdown",
            "source": "----------------------------------"
        }
    ],
    "metadata": {
        "kernelspec": {
            "name": "python3",
            "display_name": "Python 3.6",
            "language": "python"
        },
        "language_info": {
            "name": "python",
            "version": "3.6.9",
            "mimetype": "text/x-python",
            "codemirror_mode": {
                "name": "ipython",
                "version": 3
            },
            "pygments_lexer": "ipython3",
            "nbconvert_exporter": "python",
            "file_extension": ".py"
        }
    },
    "nbformat": 4,
    "nbformat_minor": 1
}